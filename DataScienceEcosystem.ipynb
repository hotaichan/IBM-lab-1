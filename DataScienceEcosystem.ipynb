{
 "cells": [
  {
   "cell_type": "markdown",
   "id": "016c02f1-81ac-46f1-925e-be48b69e7d8f",
   "metadata": {},
   "source": [
    "# Data Science Tools and Ecosystem"
   ]
  },
  {
   "cell_type": "markdown",
   "id": "cd432a11-a403-4146-9c3c-4d250cdcd364",
   "metadata": {},
   "source": [
    "In this notebook, Data Science Tools and Ecosyste are summarized."
   ]
  },
  {
   "cell_type": "markdown",
   "id": "532ddb59-3ff9-4518-b0c0-8d5c4fba5535",
   "metadata": {},
   "source": [
    "**Objectives**"
   ]
  },
  {
   "cell_type": "markdown",
   "id": "cc8dfa3c-b96f-46b6-8c47-6b56e172197b",
   "metadata": {},
   "source": [
    "- List popular languages used by Data Scientists\n",
    "- List libraries commonly used by Data Scientists\n",
    "- List development environment used by Data Scientists\n",
    "- Perform basic calculations using Jupyter\n",
    "- Making tables withi Jupyter"
   ]
  },
  {
   "cell_type": "markdown",
   "id": "104377c6-703f-453b-8679-00a208c25424",
   "metadata": {},
   "source": [
    "Some of the popular languages that Data Scientists use are:\n",
    "1. Python\n",
    "2. R\n",
    "3. SQL"
   ]
  },
  {
   "cell_type": "markdown",
   "id": "46a75574-c814-4723-a785-01c406bc5c20",
   "metadata": {},
   "source": [
    "Some of the commonly used libraries used by Data Scientists include:\n",
    "\n",
    "1. Pandas\n",
    "2. NumPy\n",
    "3. Matplotlib"
   ]
  },
  {
   "cell_type": "markdown",
   "id": "7388761c-59c2-46bc-b8e4-bea6a1cd1825",
   "metadata": {},
   "source": [
    "|Data Science Tools|\n",
    "|-|\n",
    "|JupyterLab|\n",
    "|RStudio|\n",
    "|Spyder|"
   ]
  },
  {
   "cell_type": "markdown",
   "id": "d1e42f77-0a55-46fd-b1d0-01a3d32ce43c",
   "metadata": {},
   "source": [
    "### Below are a few examples of evaluating arithmetic expression in Python"
   ]
  },
  {
   "cell_type": "markdown",
   "id": "f19415ba-7034-4ea0-bfcc-b5681219c152",
   "metadata": {},
   "source": [
    "This is a simple arithmetic expression to multiply then add integers"
   ]
  },
  {
   "cell_type": "code",
   "execution_count": 1,
   "id": "46293cb4-fd47-4ac6-a636-07393af1b199",
   "metadata": {
    "tags": []
   },
   "outputs": [
    {
     "data": {
      "text/plain": [
       "17"
      ]
     },
     "execution_count": 1,
     "metadata": {},
     "output_type": "execute_result"
    }
   ],
   "source": [
    "(3*4)+5"
   ]
  },
  {
   "cell_type": "markdown",
   "id": "7dad991b-13a4-4f1c-a80a-c3781d466f01",
   "metadata": {},
   "source": [
    "This will convert 200 minutes to hours by dividing by 60"
   ]
  },
  {
   "cell_type": "code",
   "execution_count": 2,
   "id": "ff7185c7-eede-4bb2-9253-cae9c80292ad",
   "metadata": {
    "tags": []
   },
   "outputs": [
    {
     "data": {
      "text/plain": [
       "3.3333333333333335"
      ]
     },
     "execution_count": 2,
     "metadata": {},
     "output_type": "execute_result"
    }
   ],
   "source": [
    "200/60"
   ]
  },
  {
   "cell_type": "markdown",
   "id": "8a83c467-364c-48dd-abbd-6119a68fb397",
   "metadata": {},
   "source": [
    "## Author"
   ]
  },
  {
   "cell_type": "markdown",
   "id": "ea010f4a-06b6-4ce2-a62d-3db6d774f3d4",
   "metadata": {},
   "source": [
    "Ho Tai Chan"
   ]
  },
  {
   "cell_type": "code",
   "execution_count": null,
   "id": "a14e1da2-ebdd-4ba0-86fb-bc050e79cfb3",
   "metadata": {},
   "outputs": [],
   "source": []
  }
 ],
 "metadata": {
  "kernelspec": {
   "display_name": "Python 3 (ipykernel)",
   "language": "python",
   "name": "python3"
  },
  "language_info": {
   "codemirror_mode": {
    "name": "ipython",
    "version": 3
   },
   "file_extension": ".py",
   "mimetype": "text/x-python",
   "name": "python",
   "nbconvert_exporter": "python",
   "pygments_lexer": "ipython3",
   "version": "3.11.5"
  }
 },
 "nbformat": 4,
 "nbformat_minor": 5
}
